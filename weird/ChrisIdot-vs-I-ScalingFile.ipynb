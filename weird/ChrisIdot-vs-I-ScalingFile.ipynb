{
 "cells": [
  {
   "cell_type": "code",
   "execution_count": null,
   "metadata": {
    "collapsed": false
   },
   "outputs": [],
   "source": [
    "%load_ext autoreload\n",
    "%autoreload 2\n",
    "\n",
    "%matplotlib inline\n",
    "import matplotlib.pyplot as plt\n",
    "import networkx as nx\n",
    "import numpy as np\n",
    "from collections import OrderedDict\n",
    "\n",
    "from rewire import *"
   ]
  },
  {
   "cell_type": "code",
   "execution_count": null,
   "metadata": {
    "collapsed": false
   },
   "outputs": [],
   "source": [
    "def coolkids(self_state, neighs_infected, neighs_noninfected, global_infected):\n",
    "    diff = neighs_infected - neighs_noninfected\n",
    "    return diff\n",
    "def evangelical(self_state, neighs_infected, neighs_noninfected, global_infected):\n",
    "    # missionary - simplest\n",
    "    return self_state*global_infected\n",
    "    # in addition to i-i to i-n switching, also switching from n-n to n-i -- why?\n",
    "    # wannabe proszelysers?\n",
    "def veggie(self_state, neighs_infected, neighs_noninfected, global_infected):\n",
    "    diff = neighs_infected - neighs_noninfected\n",
    "    return self_state * diff\n",
    "\n",
    "beta=100\n",
    "rdictN = {}\n",
    "for ndx, N in enumerate(10**np.linspace(2,3,10)):\n",
    "    graph_density = 5.0 / N #  0.01\n",
    "    mx_init = init_graph(N, graph_density)\n",
    "    #print 'init  q', graphy.louvain.optimize_modularity(mx_init)[1]\n",
    "    is_infected_init = (np.random.random(N) < .1)\n",
    "    #rdicts_db = {}\n",
    "    #rdicts_db['ER'] = rdicts\n",
    "    \n",
    "    rdictN[ndx] = run_rewire(mx_init, is_infected_init, benefit_function=veggie, \n",
    "                                       opts=dict(beta=beta, p_transmit=0.001, NUM_ITERS=1000))\n",
    "    print ndx, N, rdictN[ndx]['num_infected'][-1],\n",
    "    ni=np.array(rdictN[ndx]['num_infected'],dtype='float')\n",
    "    s=150\n",
    "    i_over_doI = (ni[s:]-ni[:-s])/ni[s/2:-s/2]\n",
    "    print i_over_doI.max()\n",
    "#del mx_init, is_infected_init\n",
    "    \n",
    "\n"
   ]
  },
  {
   "cell_type": "code",
   "execution_count": null,
   "metadata": {
    "collapsed": false
   },
   "outputs": [],
   "source": [
    "n=[]\n",
    "plt.figure(figsize=(8,5))\n",
    "plt.style.use('seaborn-white')\n",
    "\n",
    "for p,r in rdictN.items():\n",
    "    ni=np.array(r['num_infected'],dtype='float')\n",
    "    #print ni\n",
    "    s=150\n",
    "    i_over_doI = (ni[s:]-ni[:-s])/ni[s/2:-s/2]\n",
    "    n.append((ni.max(), i_over_doI.max()))\n",
    "    plt.figure()\n",
    "    plt.plot(i_over_doI)\n",
    "    print ni.max(), i_over_doI.max()\n",
    "plt.figure()\n",
    "x,y=zip(*n) \n",
    "x=np.array(x,dtype='float')\n",
    "y=np.array(y,dtype='float')\n",
    "print x,y\n",
    "plt.loglog( x, y , '*')\n",
    "#N=2500.0\n",
    "from scipy.stats import linregress\n",
    "#linregress(x,y)\n",
    "lr=linregress(np.log(x),np.log(y)) #x and y are arrays or lists.\n",
    "print 'slope=',lr.slope\n",
    "print \n",
    "plt.loglog( x, (x*np.exp(lr.intercept))**lr.slope, '--') # x^.78"
   ]
  },
  {
   "cell_type": "code",
   "execution_count": null,
   "metadata": {
    "collapsed": true
   },
   "outputs": [],
   "source": []
  }
 ],
 "metadata": {
  "kernelspec": {
   "display_name": "Python 2",
   "language": "python",
   "name": "python2"
  },
  "language_info": {
   "codemirror_mode": {
    "name": "ipython",
    "version": 2
   },
   "file_extension": ".py",
   "mimetype": "text/x-python",
   "name": "python",
   "nbconvert_exporter": "python",
   "pygments_lexer": "ipython2",
   "version": "2.7.11"
  }
 },
 "nbformat": 4,
 "nbformat_minor": 0
}
