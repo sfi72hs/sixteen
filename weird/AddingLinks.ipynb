{
 "cells": [
  {
   "cell_type": "code",
   "execution_count": null,
   "metadata": {
    "collapsed": false
   },
   "outputs": [],
   "source": [
    "# try scale-free, double check on fat-tail\n",
    "# final state -- degree distribution, # of components, \n",
    "\n",
    "# interesting outputs -- final degree distribution\n",
    "%load_ext autoreload\n",
    "%autoreload 2\n",
    "\n",
    "%matplotlib inline\n",
    "import matplotlib.pyplot as plt\n",
    "import networkx as nx\n",
    "import numpy as np\n",
    "import scipy.sparse as ss\n",
    "\n",
    "from rewire import *\n"
   ]
  },
  {
   "cell_type": "code",
   "execution_count": null,
   "metadata": {
    "collapsed": false
   },
   "outputs": [],
   "source": [
    "N = 1000  # number of nodes \n",
    "graph_density = 5.0/N\n",
    "mx_init = init_graph(N, graph_density)\n",
    "print 'meanK=', mx_init.sum(axis=1).mean()\n",
    "is_infected_init = (np.random.random(N) < .05)\n",
    "print mx_init.sum()"
   ]
  },
  {
   "cell_type": "code",
   "execution_count": null,
   "metadata": {
    "collapsed": true
   },
   "outputs": [],
   "source": [
    "mx_init_sp = ss.csr_matrix(mx_init)\n"
   ]
  },
  {
   "cell_type": "code",
   "execution_count": null,
   "metadata": {
    "collapsed": true
   },
   "outputs": [],
   "source": [
    "def bf(self_state, neighs_infected, neighs_noninfected, global_infected):\n",
    "    #return self_state * (neighs_infected + neighs_noninfected)\n",
    "    #if not self_state:\n",
    "    #    return np.inf\n",
    "    return self_state * neighs_noninfected\n",
    "    #return self_state * global_infected\n",
    "\n",
    "#rdict = run_rewire(mx_init, is_infected_init, benefit_function=bf, \n",
    "#                   opts=dict(NUM_ITERS=5000, do_rewire=False, do_add=True, p_rewire=.1, p_transmit=.00005,\n",
    "#                            iterate_only_infected=True, beta=5))\n",
    "rdict = run_rewire(mx_init_sp, is_infected_init, benefit_function=bf, \n",
    "                   opts=dict(NUM_ITERS=10000, do_rewire=False, do_add=True, p_rewire=1, p_transmit=.0001,\n",
    "                            iterate_only_infected=True, beta=10))\n",
    "\n",
    "#rdict = run_rewire(mx_init, is_infected_init, benefit_function=bf, \n",
    "#                   opts=dict(NUM_ITERS=10000, do_rewire=False, do_add=True, p_rewire=1.0, p_transmit=.00002,\n",
    "#                            iterate_only_infected=True, beta=100))"
   ]
  },
  {
   "cell_type": "code",
   "execution_count": null,
   "metadata": {
    "collapsed": false
   },
   "outputs": [],
   "source": [
    "def evangelical(self_state, neighs_infected, neighs_noninfected, global_infected):\n",
    "    # missionary - simplest\n",
    "    return self_state*global_infected\n",
    "    # in addition to i-i to i-n switching, also switching from n-n to n-i -- why?\n",
    "    # wannabe proszelysers?\n",
    "rdict2 = run_rewire(mx_init_sp, is_infected_init, benefit_function=evangelical, \n",
    "                   opts=dict(NUM_ITERS=3000, do_rewire=True, do_add=False, p_rewire=1, p_transmit=.0005,\n",
    "                            iterate_only_infected=True, beta=10))\n"
   ]
  },
  {
   "cell_type": "code",
   "execution_count": null,
   "metadata": {
    "collapsed": false
   },
   "outputs": [],
   "source": [
    "%run initplot.py\n",
    "\n",
    "#with plt.style.context(['fivethirtyeight','seaborn-whitegrid']):\n",
    "#with plt.rc_context({'lines.linewidth': 2}):\n",
    "plt.figure(figsize=(8,8))\n",
    "plt.subplot(2,2,1)\n",
    "ni=np.array(rdict['num_infected'],dtype='float')/N\n",
    "plt.plot(ni, color='k')\n",
    "plt.ylabel('Portion infected')\n",
    "plt.title('Adding S-I links process')\n",
    "plt.subplot(2,2,3)\n",
    "plt.semilogy(1-ni, color='k')\n",
    "plt.ylabel('Portion not infected')\n",
    "#from matplotlib.ticker import MaxNLocator\n",
    "#plt.gca().xaxis.set_major_locator( MaxNLocator(nbins = 3) )\n",
    "plt.xlabel('Iteration')\n",
    "plt.subplot(2,2,2)\n",
    "ni=np.array(rdict2['num_infected'],dtype='float')/N\n",
    "plt.plot(ni, color='k')\n",
    "#plt.ylabel('Portion infected')\n",
    "plt.title('Evangelical rewiring process')\n",
    "plt.subplot(2,2,4)\n",
    "plt.semilogy(1-ni, color='k')\n",
    "#plt.ylabel('Portion not infected')\n",
    "#plt.gca().xaxis.set_major_locator( MaxNLocator(nbins = 3) )\n",
    "plt.xlabel('Iteration')\n",
    "#plt.savefig('out/weird-superexponential.pdf', facecolor='white', bbox_inches='tight')"
   ]
  },
  {
   "cell_type": "code",
   "execution_count": null,
   "metadata": {
    "collapsed": false
   },
   "outputs": [],
   "source": [
    "plt.figure()\n",
    "s=200\n",
    "idot=np.array((ni[s:]-ni[:-s])/ni[s:])\n",
    "plt.plot(idot)\n",
    "plt.figure()\n",
    "plt.plot(rdict2['mean_degree'])\n",
    "plt.hold('on')\n",
    "plt.plot(rdict2['mean_degree_inf'])\n",
    "plt.legend(['<k>','<k_inf>'])\n",
    "plt.ylim([0, plt.ylim()[1]])"
   ]
  },
  {
   "cell_type": "markdown",
   "metadata": {
    "collapsed": false
   },
   "source": [
    "## print rdict['mx'].sum()\n",
    "print mx_init.sum()"
   ]
  },
  {
   "cell_type": "code",
   "execution_count": null,
   "metadata": {
    "collapsed": false
   },
   "outputs": [],
   "source": [
    "rws = np.array(rdict['rewire_counts_list'])\n",
    "rwsndx, rwtypes = zip(*[(i, rt) for i, rt in enumerate(rdict['rewire_types']) if rt[-4:]!='none'])\n",
    "#rwsndx, rwtypes = zip(*enumerate(rdict['rewire_types']))\n",
    "plt.plot(rws[:,list(rwsndx)])\n",
    "plt.legend(rwtypes, bbox_to_anchor=(.15,1))\n"
   ]
  },
  {
   "cell_type": "code",
   "execution_count": null,
   "metadata": {
    "collapsed": true
   },
   "outputs": [],
   "source": []
  }
 ],
 "metadata": {
  "kernelspec": {
   "display_name": "Python 2",
   "language": "python",
   "name": "python2"
  },
  "language_info": {
   "codemirror_mode": {
    "name": "ipython",
    "version": 2
   },
   "file_extension": ".py",
   "mimetype": "text/x-python",
   "name": "python",
   "nbconvert_exporter": "python",
   "pygments_lexer": "ipython2",
   "version": "2.7.11"
  }
 },
 "nbformat": 4,
 "nbformat_minor": 0
}
