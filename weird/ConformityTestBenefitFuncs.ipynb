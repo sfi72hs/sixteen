{
 "cells": [
  {
   "cell_type": "code",
   "execution_count": 4,
   "metadata": {
    "collapsed": false
   },
   "outputs": [
    {
     "name": "stdout",
     "output_type": "stream",
     "text": [
      "The autoreload extension is already loaded. To reload it, use:\n",
      "  %reload_ext autoreload\n"
     ]
    }
   ],
   "source": [
    "%load_ext autoreload\n",
    "%autoreload 2\n",
    "\n",
    "%matplotlib inline\n",
    "import matplotlib.pyplot as plt\n",
    "import networkx as nx\n",
    "import numpy as np\n",
    "from collections import OrderedDict\n",
    "\n",
    "from rewire import *\n",
    "\n",
    "def plot_rewire_types(rdict):\n",
    "    rws = np.array(rdict['rewire_counts_list'])\n",
    "    rwsndx, rwtypes = zip(*[(i, rt) for i, rt in enumerate(rdict['rewire_types']) if rt[-4:]!='none'])\n",
    "    plotrws = rws[:,list(rwsndx)]\n",
    "    #plotrws = plotrws[600:,:]-plotrws[:-600,:]\n",
    "    plt.plot(plotrws)\n",
    "    plt.legend(rwtypes)\n",
    "    \n",
    "def conformity2(self_state, neighs_infected, neighs_noninfected, global_infected):\n",
    "    return self_state + 0.00001*(1-self_state) * (neighs_noninfected-neighs_infected)\n",
    "\n",
    "def get_conf3(alpha):\n",
    "    def conformity3(self_state, neighs_infected, neighs_noninfected, global_infected):\n",
    "        diff = neighs_infected - neighs_noninfected\n",
    "        return self_state + alpha * float(self_state*diff - (1-self_state)*diff)\n",
    "    return conformity3\n",
    "\n",
    "def get_conf4(kappa):\n",
    "    def conformity4(self_state, neighs_infected, neighs_noninfected, global_infected):\n",
    "        diff = neighs_infected - neighs_noninfected\n",
    "        return self_state * (neighs_infected - kappa)\n",
    "    return conformity4\n",
    "\n",
    "def get_conf9(kappa):\n",
    "    def c(self_state, neighs_infected, neighs_noninfected, global_infected):\n",
    "        diff = neighs_infected - neighs_noninfected\n",
    "        return  self_state + kappa * (self_state * ( neighs_infected) + (1-self_state)*neighs_noninfected )\n",
    "    return c\n",
    "\n",
    "def get_conf5(kappa):\n",
    "    def conformity5(self_state, neighs_infected, neighs_noninfected, global_infected):\n",
    "        return self_state * ((global_infected)/100.0 - kappa)\n",
    "    return conformity5\n",
    "\n",
    "def get_conf5(kappa):\n",
    "    def conformity5(self_state, neighs_infected, neighs_noninfected, global_infected):\n",
    "        return self_state * (1 if ((global_infected)/100.0 > kappa) else -1)\n",
    "    return conformity5\n",
    "\n",
    "def get_conf6(kappa):\n",
    "    def conformity(self_state, neighs_infected, neighs_noninfected, global_infected):\n",
    "        return self_state * (kappa - neighs_noninfected) + (1-self_state)*neighs_noninfected\n",
    "        #return self_state * (kappa - neighs_noninfected) + (1-self_state)*neighs_noninfected\n",
    "    return conformity\n",
    "\n",
    "\n",
    "def get_conf7(kappa):\n",
    "    def conformity(self_state, neighs_infected, neighs_noninfected, global_infected):\n",
    "        #diff = neighs_infected - neighs_noninfected\n",
    "        v= self_state + (self_state*(1 if neighs_infected > kappa else -1) + (1-self_state)*(1 if neighs_noninfected > kappa else -1))\n",
    "        #print self_state,neighs_infected, neighs_noninfected,v\n",
    "        return v\n",
    "    return conformity\n",
    "\n",
    "def relfit(self_state, neighs_infected, neighs_noninfected, global_infected):\n",
    "    v= self_state*neighs_noninfected\n",
    "    return v"
   ]
  },
  {
   "cell_type": "code",
   "execution_count": 2,
   "metadata": {
    "collapsed": true
   },
   "outputs": [],
   "source": [
    "N = 1000  # number of nodes \n",
    "graph_density = 5.0 / N #  0.01\n",
    "mx_init = init_graph(N, graph_density)\n",
    "#print 'init  q', graphy.louvain.optimize_modularity(mx_init)[1]\n",
    "is_infected_init = (np.random.random(N) < .05)\n",
    "#rdicts_db = {}\n",
    "#rdicts_db['ER'] = rdicts\n",
    "rdict = {}\n",
    "beta=100"
   ]
  },
  {
   "cell_type": "code",
   "execution_count": null,
   "metadata": {
    "collapsed": false
   },
   "outputs": [],
   "source": [
    "rdict2 = {}\n",
    "for ndx, alpha in enumerate( (10**np.linspace(-4.01,-4,5)) ):\n",
    "    rdict2[ndx] = run_rewire(mx_init, is_infected_init, benefit_function=get_conf3(alpha), \n",
    "                                       opts=dict(beta=beta, p_transmit=0.0002, NUM_ITERS=1000))\n",
    "    print alpha, ndx, rdict2[ndx]['num_infected'][-1]\n",
    "#del mx_init, is_infected_init\n",
    "    \n"
   ]
  },
  {
   "cell_type": "code",
   "execution_count": null,
   "metadata": {
    "collapsed": true
   },
   "outputs": [],
   "source": [
    "rdict3 = {}\n",
    "for ndx, kappa in enumerate( np.arange(1,5) ):\n",
    "    rdict3[ndx] = run_rewire(mx_init, is_infected_init, benefit_function=get_conf4(kappa), \n",
    "                                       opts=dict(beta=beta, p_transmit=0.0002, NUM_ITERS=15000))\n",
    "    print kappa, ndx, rdict3[ndx]['num_infected'][-1]\n"
   ]
  },
  {
   "cell_type": "code",
   "execution_count": null,
   "metadata": {
    "collapsed": false
   },
   "outputs": [],
   "source": [
    "rdict5 = {}\n",
    "for ndx, kappa in enumerate( [10e-6, 10e-5, 10e-4] ) : # 10*np.arange(5,10,dtype='float') ):\n",
    "    rdict5[ndx] = run_rewire(mx_init, is_infected_init, benefit_function=get_conf9(kappa), \n",
    "                                       opts=dict(beta=beta, p_transmit=0.0002, NUM_ITERS=2000))\n",
    "    print kappa, ndx, rdict5[ndx]['num_infected'][-1]"
   ]
  },
  {
   "cell_type": "code",
   "execution_count": null,
   "metadata": {
    "collapsed": false
   },
   "outputs": [],
   "source": [
    "rdict6 = {}\n",
    "beta = 100\n",
    "def coolkids(self_state, neighs_infected, neighs_noninfected, global_infected):\n",
    "    diff = neighs_infected - neighs_noninfected\n",
    "    return diff\n",
    "\n",
    "print 'meank', mx_init.sum(axis=1).mean(), is_infected_init.mean()\n",
    "for ndx, kappa in enumerate( np.arange(1,5,dtype='float') ):\n",
    "    rdict6[ndx] = run_rewire(mx_init, is_infected_init, benefit_function=get_conf7(kappa), \n",
    "                                       opts=dict(beta=beta, p_transmit=0.0002, NUM_ITERS=5000))\n",
    "    print kappa, ndx, rdict6[ndx]['num_infected'][-1]\n",
    "    #asdf\n"
   ]
  },
  {
   "cell_type": "code",
   "execution_count": null,
   "metadata": {
    "collapsed": true
   },
   "outputs": [],
   "source": [
    "def coolkids(self_state, neighs_infected, neighs_noninfected, global_infected):\n",
    "    diff = neighs_infected - neighs_noninfected\n",
    "    return diff\n",
    "\n",
    "rdict0 = {}\n",
    "for ndx, p in enumerate(10**np.linspace(-5,-3,10)):\n",
    "    rdict0[p] = run_rewire(mx_init, is_infected_init, benefit_function=coolkids, \n",
    "                                       opts=dict(beta=beta, p_transmit=p, NUM_ITERS=5000))\n",
    "    print ndx, p, rdict0[p]['num_infected'][-1]\n",
    "#del mx_init, is_infected_init\n",
    "    "
   ]
  },
  {
   "cell_type": "code",
   "execution_count": null,
   "metadata": {
    "collapsed": false
   },
   "outputs": [],
   "source": [
    "relfitd = {}\n",
    "relfitd = run_rewire(mx_init, is_infected_init, benefit_function=relfit, \n",
    "                                   opts=dict(beta=beta, p_transmit=0.0002, NUM_ITERS=10000))\n",
    "print relfitd['num_infected'][-1]"
   ]
  },
  {
   "cell_type": "code",
   "execution_count": 3,
   "metadata": {
    "collapsed": false
   },
   "outputs": [
    {
     "ename": "NameError",
     "evalue": "name 'relfitd' is not defined",
     "output_type": "error",
     "traceback": [
      "\u001b[0;31m---------------------------------------------------------------------------\u001b[0m",
      "\u001b[0;31mNameError\u001b[0m                                 Traceback (most recent call last)",
      "\u001b[0;32m<ipython-input-3-7f24244581ae>\u001b[0m in \u001b[0;36m<module>\u001b[0;34m()\u001b[0m\n\u001b[0;32m----> 1\u001b[0;31m \u001b[0mrdict\u001b[0m\u001b[0;34m=\u001b[0m\u001b[0mrelfitd\u001b[0m\u001b[0;34m\u001b[0m\u001b[0m\n\u001b[0m\u001b[1;32m      2\u001b[0m \u001b[0mni\u001b[0m\u001b[0;34m=\u001b[0m\u001b[0mnp\u001b[0m\u001b[0;34m.\u001b[0m\u001b[0marray\u001b[0m\u001b[0;34m(\u001b[0m\u001b[0mrdict\u001b[0m\u001b[0;34m[\u001b[0m\u001b[0;34m'num_infected'\u001b[0m\u001b[0;34m]\u001b[0m\u001b[0;34m)\u001b[0m\u001b[0;34m\u001b[0m\u001b[0m\n\u001b[1;32m      3\u001b[0m \u001b[0mplt\u001b[0m\u001b[0;34m.\u001b[0m\u001b[0mplot\u001b[0m\u001b[0;34m(\u001b[0m\u001b[0mni\u001b[0m\u001b[0;34m)\u001b[0m\u001b[0;34m\u001b[0m\u001b[0m\n\u001b[1;32m      4\u001b[0m \u001b[0mplt\u001b[0m\u001b[0;34m.\u001b[0m\u001b[0mfigure\u001b[0m\u001b[0;34m(\u001b[0m\u001b[0;34m)\u001b[0m\u001b[0;34m\u001b[0m\u001b[0m\n\u001b[1;32m      5\u001b[0m \u001b[0mplt\u001b[0m\u001b[0;34m.\u001b[0m\u001b[0mimshow\u001b[0m\u001b[0;34m(\u001b[0m\u001b[0mrdict\u001b[0m\u001b[0;34m[\u001b[0m\u001b[0;34m'mx'\u001b[0m\u001b[0;34m]\u001b[0m\u001b[0;34m,\u001b[0m \u001b[0mcmap\u001b[0m\u001b[0;34m=\u001b[0m\u001b[0;34m'Greys'\u001b[0m\u001b[0;34m)\u001b[0m\u001b[0;34m\u001b[0m\u001b[0m\n",
      "\u001b[0;31mNameError\u001b[0m: name 'relfitd' is not defined"
     ]
    }
   ],
   "source": [
    "rdict=relfitd\n",
    "ni=np.array(rdict['num_infected'])\n",
    "plt.plot(ni)\n",
    "plt.figure()\n",
    "plt.imshow(rdict['mx'], cmap='Greys')\n",
    "plt.figure()\n",
    "\n",
    "plot_rewire_types(rdict)"
   ]
  },
  {
   "cell_type": "code",
   "execution_count": null,
   "metadata": {
    "collapsed": false,
    "scrolled": false
   },
   "outputs": [],
   "source": [
    "ni=np.array(rdict['num_infected'])/float(N)\n",
    "#ni=ni[0:1000] \n",
    "plt.figure(figsize=(15,4))\n",
    "plt.subplot(1,3,1)\n",
    "plt.plot(ni)\n",
    "plt.ylabel('Proportion infected')\n",
    "#plt.gca().set_yscale('log')\n",
    "plt.xlabel('Iteration')\n",
    "plt.subplot(1,3,2)\n",
    "plt.plot(ni[0:5000])\n",
    "plt.gca().set_yscale('log')\n",
    "plt.ylabel('Proportion infected')\n",
    "plt.xlabel('Iteration')\n",
    "\n",
    "plt.subplot(1,3,3)\n",
    "plt.plot(1-ni[-1000:])\n",
    "plt.gca().set_yscale('log')\n",
    "plt.xlabel('Iteration')\n",
    "plt.ylabel('Proportion not infected')\n",
    "\n",
    "#plt.savefig('out/fig2.pdf', facecolor='white')\n"
   ]
  },
  {
   "cell_type": "code",
   "execution_count": null,
   "metadata": {
    "collapsed": false
   },
   "outputs": [],
   "source": [
    "inf=np.array(rdict['num_infected'],dtype='float')\n",
    "s=250\n",
    "#plt.subplot(2,2,ndx+1)\n",
    "#plt.plot((inf[s:]-inf[:-s])/inf[s-(s/2):-(s/2)])\n",
    "plt.plot((inf[s:]-inf[:-s])/inf[s:])\n"
   ]
  },
  {
   "cell_type": "code",
   "execution_count": null,
   "metadata": {
    "collapsed": false
   },
   "outputs": [],
   "source": [
    "plt.plot(rdict0[rdict0.keys()[0]]['num_infected'])\n"
   ]
  },
  {
   "cell_type": "code",
   "execution_count": 15,
   "metadata": {
    "collapsed": false
   },
   "outputs": [],
   "source": [
    "ptransmit = 1e-4\n",
    "def coolkids_try2(self_state, neighs_infected, neighs_noninfected, global_infected):\n",
    "    diff = neighs_infected - neighs_noninfected - (2.1/ptransmit)*global_infected\n",
    "    return diff\n",
    "\n",
    "rdict = run_rewire(mx_init, is_infected_init, benefit_function=coolkids_try2, \n",
    "                                   opts=dict(beta=10, p_transmit=ptransmit, NUM_ITERS=1000))\n",
    "#del mx_init, is_infected_init\n"
   ]
  },
  {
   "cell_type": "code",
   "execution_count": 16,
   "metadata": {
    "collapsed": false
   },
   "outputs": [
    {
     "data": {
      "image/png": "[encoded data removed]",
      "text/plain": [
       "<matplotlib.figure.Figure at 0x106d80f50>"
      ]
     },
     "metadata": {},
     "output_type": "display_data"
    }
   ],
   "source": [
    "plot_rewire_types(rdict)"
   ]
  },
  {
   "cell_type": "code",
   "execution_count": null,
   "metadata": {
    "collapsed": true
   },
   "outputs": [],
   "source": []
  }
 ],
 "metadata": {
  "kernelspec": {
   "display_name": "Python 2",
   "language": "python",
   "name": "python2"
  },
  "language_info": {
   "codemirror_mode": {
    "name": "ipython",
    "version": 2
   },
   "file_extension": ".py",
   "mimetype": "text/x-python",
   "name": "python",
   "nbconvert_exporter": "python",
   "pygments_lexer": "ipython2",
   "version": "2.7.11"
  }
 },
 "nbformat": 4,
 "nbformat_minor": 0
}
